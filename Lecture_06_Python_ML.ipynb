{
  "cells": [
    {
      "cell_type": "markdown",
      "metadata": {
        "id": "view-in-github",
        "colab_type": "text"
      },
      "source": [
        "<a href=\"https://colab.research.google.com/github/Farhana-afrin/Python_Classwork/blob/main/Lecture_06_Python_ML.ipynb\" target=\"_parent\"><img src=\"https://colab.research.google.com/assets/colab-badge.svg\" alt=\"Open In Colab\"/></a>"
      ]
    },
    {
      "cell_type": "markdown",
      "id": "01d8f667",
      "metadata": {
        "id": "01d8f667"
      },
      "source": [
        "#### Lecture 06"
      ]
    },
    {
      "cell_type": "code",
      "execution_count": null,
      "id": "d1a9aef9",
      "metadata": {
        "id": "d1a9aef9"
      },
      "outputs": [],
      "source": [
        "import pandas as pd"
      ]
    },
    {
      "cell_type": "code",
      "execution_count": null,
      "id": "f3960686",
      "metadata": {
        "id": "f3960686",
        "outputId": "d0e24024-18fa-40a6-8cef-4828e629c9a5"
      },
      "outputs": [
        {
          "data": {
            "text/html": [
              "<div>\n",
              "<style scoped>\n",
              "    .dataframe tbody tr th:only-of-type {\n",
              "        vertical-align: middle;\n",
              "    }\n",
              "\n",
              "    .dataframe tbody tr th {\n",
              "        vertical-align: top;\n",
              "    }\n",
              "\n",
              "    .dataframe thead th {\n",
              "        text-align: right;\n",
              "    }\n",
              "</style>\n",
              "<table border=\"1\" class=\"dataframe\">\n",
              "  <thead>\n",
              "    <tr style=\"text-align: right;\">\n",
              "      <th></th>\n",
              "      <th>Name</th>\n",
              "      <th>Address</th>\n",
              "      <th>University</th>\n",
              "    </tr>\n",
              "  </thead>\n",
              "  <tbody>\n",
              "    <tr>\n",
              "      <th>0</th>\n",
              "      <td>A</td>\n",
              "      <td>Houston</td>\n",
              "      <td>USF</td>\n",
              "    </tr>\n",
              "    <tr>\n",
              "      <th>1</th>\n",
              "      <td>B</td>\n",
              "      <td>Boise</td>\n",
              "      <td>BSU</td>\n",
              "    </tr>\n",
              "    <tr>\n",
              "      <th>2</th>\n",
              "      <td>C</td>\n",
              "      <td>Tampa</td>\n",
              "      <td>USF</td>\n",
              "    </tr>\n",
              "  </tbody>\n",
              "</table>\n",
              "</div>"
            ],
            "text/plain": [
              "  Name  Address University\n",
              "0    A  Houston        USF\n",
              "1    B    Boise        BSU\n",
              "2    C    Tampa        USF"
            ]
          },
          "metadata": {},
          "output_type": "display_data"
        },
        {
          "name": "stdout",
          "output_type": "stream",
          "text": [
            "(3, 3)\n"
          ]
        }
      ],
      "source": [
        "df_A=pd.DataFrame()\n",
        "df_A['Name']=['A','B','C']\n",
        "df_A['Address']=['Houston','Boise','Tampa']\n",
        "df_A['University']=['USF','BSU','USF']\n",
        "print(type(df_A))\n",
        "display(df_A)\n",
        "print(df_A.shape)\n"
      ]
    },
    {
      "cell_type": "code",
      "execution_count": null,
      "id": "e268df4c",
      "metadata": {
        "id": "e268df4c",
        "outputId": "c5931a6d-48be-4f0f-97b8-27eec7d9d512"
      },
      "outputs": [
        {
          "name": "stdout",
          "output_type": "stream",
          "text": [
            "<class 'pandas.core.frame.DataFrame'>\n"
          ]
        },
        {
          "data": {
            "text/html": [
              "<div>\n",
              "<style scoped>\n",
              "    .dataframe tbody tr th:only-of-type {\n",
              "        vertical-align: middle;\n",
              "    }\n",
              "\n",
              "    .dataframe tbody tr th {\n",
              "        vertical-align: top;\n",
              "    }\n",
              "\n",
              "    .dataframe thead th {\n",
              "        text-align: right;\n",
              "    }\n",
              "</style>\n",
              "<table border=\"1\" class=\"dataframe\">\n",
              "  <thead>\n",
              "    <tr style=\"text-align: right;\">\n",
              "      <th></th>\n",
              "      <th>Name</th>\n",
              "      <th>Department</th>\n",
              "      <th>Address</th>\n",
              "    </tr>\n",
              "  </thead>\n",
              "  <tbody>\n",
              "    <tr>\n",
              "      <th>0</th>\n",
              "      <td>A</td>\n",
              "      <td>EEE</td>\n",
              "      <td>Texas</td>\n",
              "    </tr>\n",
              "    <tr>\n",
              "      <th>1</th>\n",
              "      <td>B</td>\n",
              "      <td>CSE</td>\n",
              "      <td>Idaho</td>\n",
              "    </tr>\n",
              "    <tr>\n",
              "      <th>2</th>\n",
              "      <td>D</td>\n",
              "      <td>EEE</td>\n",
              "      <td>Dhaka</td>\n",
              "    </tr>\n",
              "  </tbody>\n",
              "</table>\n",
              "</div>"
            ],
            "text/plain": [
              "  Name Department Address\n",
              "0    A        EEE   Texas\n",
              "1    B        CSE   Idaho\n",
              "2    D        EEE   Dhaka"
            ]
          },
          "metadata": {},
          "output_type": "display_data"
        },
        {
          "name": "stdout",
          "output_type": "stream",
          "text": [
            "(3, 3)\n"
          ]
        }
      ],
      "source": [
        "df_B=pd.DataFrame({'Name':['A','B','D'],'Department':['EEE','CSE','EEE'],'Address':['Texas','Idaho','Dhaka']})\n",
        "\n",
        "print(type(df_B))\n",
        "display(df_B)\n",
        "print(df_B.shape)"
      ]
    },
    {
      "cell_type": "markdown",
      "id": "e0b791bb",
      "metadata": {
        "id": "e0b791bb"
      },
      "source": [
        "Inner Join"
      ]
    },
    {
      "cell_type": "code",
      "execution_count": null,
      "id": "56084ff7",
      "metadata": {
        "id": "56084ff7",
        "outputId": "27941780-0acc-4217-ea1a-dab3fc12aed3"
      },
      "outputs": [
        {
          "data": {
            "text/html": [
              "<div>\n",
              "<style scoped>\n",
              "    .dataframe tbody tr th:only-of-type {\n",
              "        vertical-align: middle;\n",
              "    }\n",
              "\n",
              "    .dataframe tbody tr th {\n",
              "        vertical-align: top;\n",
              "    }\n",
              "\n",
              "    .dataframe thead th {\n",
              "        text-align: right;\n",
              "    }\n",
              "</style>\n",
              "<table border=\"1\" class=\"dataframe\">\n",
              "  <thead>\n",
              "    <tr style=\"text-align: right;\">\n",
              "      <th></th>\n",
              "      <th>Name</th>\n",
              "      <th>Address_L</th>\n",
              "      <th>University</th>\n",
              "      <th>Department</th>\n",
              "      <th>Address_R</th>\n",
              "    </tr>\n",
              "  </thead>\n",
              "  <tbody>\n",
              "    <tr>\n",
              "      <th>0</th>\n",
              "      <td>A</td>\n",
              "      <td>Houston</td>\n",
              "      <td>USF</td>\n",
              "      <td>EEE</td>\n",
              "      <td>Texas</td>\n",
              "    </tr>\n",
              "    <tr>\n",
              "      <th>1</th>\n",
              "      <td>B</td>\n",
              "      <td>Boise</td>\n",
              "      <td>BSU</td>\n",
              "      <td>CSE</td>\n",
              "      <td>Idaho</td>\n",
              "    </tr>\n",
              "  </tbody>\n",
              "</table>\n",
              "</div>"
            ],
            "text/plain": [
              "  Name Address_L University Department Address_R\n",
              "0    A   Houston        USF        EEE     Texas\n",
              "1    B     Boise        BSU        CSE     Idaho"
            ]
          },
          "metadata": {},
          "output_type": "display_data"
        },
        {
          "data": {
            "text/html": [
              "<div>\n",
              "<style scoped>\n",
              "    .dataframe tbody tr th:only-of-type {\n",
              "        vertical-align: middle;\n",
              "    }\n",
              "\n",
              "    .dataframe tbody tr th {\n",
              "        vertical-align: top;\n",
              "    }\n",
              "\n",
              "    .dataframe thead th {\n",
              "        text-align: right;\n",
              "    }\n",
              "</style>\n",
              "<table border=\"1\" class=\"dataframe\">\n",
              "  <thead>\n",
              "    <tr style=\"text-align: right;\">\n",
              "      <th></th>\n",
              "      <th>Name_x</th>\n",
              "      <th>Address</th>\n",
              "      <th>University</th>\n",
              "      <th>Name_y</th>\n",
              "      <th>Department</th>\n",
              "    </tr>\n",
              "  </thead>\n",
              "  <tbody>\n",
              "  </tbody>\n",
              "</table>\n",
              "</div>"
            ],
            "text/plain": [
              "Empty DataFrame\n",
              "Columns: [Name_x, Address, University, Name_y, Department]\n",
              "Index: []"
            ]
          },
          "metadata": {},
          "output_type": "display_data"
        }
      ],
      "source": [
        "df_inner_e1=df_A.merge(df_B,how='inner',on=['Name'],suffixes=['_L','_R'])\n",
        "display(df_inner_e1)\n",
        "df_inner_e2=df_A.merge(df_B,how='inner',on=['Address'])\n",
        "display(df_inner_e2)"
      ]
    },
    {
      "cell_type": "code",
      "execution_count": null,
      "id": "3a2687f5",
      "metadata": {
        "id": "3a2687f5",
        "outputId": "cd3f2006-d09c-49bb-f41b-55958de40a58"
      },
      "outputs": [
        {
          "data": {
            "text/html": [
              "<div>\n",
              "<style scoped>\n",
              "    .dataframe tbody tr th:only-of-type {\n",
              "        vertical-align: middle;\n",
              "    }\n",
              "\n",
              "    .dataframe tbody tr th {\n",
              "        vertical-align: top;\n",
              "    }\n",
              "\n",
              "    .dataframe thead th {\n",
              "        text-align: right;\n",
              "    }\n",
              "</style>\n",
              "<table border=\"1\" class=\"dataframe\">\n",
              "  <thead>\n",
              "    <tr style=\"text-align: right;\">\n",
              "      <th></th>\n",
              "      <th>Name</th>\n",
              "      <th>Address_L</th>\n",
              "      <th>University</th>\n",
              "      <th>Department</th>\n",
              "      <th>Address_R</th>\n",
              "    </tr>\n",
              "  </thead>\n",
              "  <tbody>\n",
              "    <tr>\n",
              "      <th>0</th>\n",
              "      <td>A</td>\n",
              "      <td>Houston</td>\n",
              "      <td>USF</td>\n",
              "      <td>EEE</td>\n",
              "      <td>Texas</td>\n",
              "    </tr>\n",
              "    <tr>\n",
              "      <th>1</th>\n",
              "      <td>B</td>\n",
              "      <td>Boise</td>\n",
              "      <td>BSU</td>\n",
              "      <td>CSE</td>\n",
              "      <td>Idaho</td>\n",
              "    </tr>\n",
              "    <tr>\n",
              "      <th>2</th>\n",
              "      <td>C</td>\n",
              "      <td>Tampa</td>\n",
              "      <td>USF</td>\n",
              "      <td>NaN</td>\n",
              "      <td>NaN</td>\n",
              "    </tr>\n",
              "  </tbody>\n",
              "</table>\n",
              "</div>"
            ],
            "text/plain": [
              "  Name Address_L University Department Address_R\n",
              "0    A   Houston        USF        EEE     Texas\n",
              "1    B     Boise        BSU        CSE     Idaho\n",
              "2    C     Tampa        USF        NaN       NaN"
            ]
          },
          "metadata": {},
          "output_type": "display_data"
        }
      ],
      "source": [
        "df_inner_e1=df_A.merge(df_B,how='left',on=['Name'],suffixes=['_L','_R'])\n",
        "display(df_inner_e1)"
      ]
    },
    {
      "cell_type": "code",
      "execution_count": null,
      "id": "74862390",
      "metadata": {
        "id": "74862390",
        "outputId": "f266f6b4-3132-49b2-81d7-4b102a7bf659"
      },
      "outputs": [
        {
          "data": {
            "text/html": [
              "<div>\n",
              "<style scoped>\n",
              "    .dataframe tbody tr th:only-of-type {\n",
              "        vertical-align: middle;\n",
              "    }\n",
              "\n",
              "    .dataframe tbody tr th {\n",
              "        vertical-align: top;\n",
              "    }\n",
              "\n",
              "    .dataframe thead th {\n",
              "        text-align: right;\n",
              "    }\n",
              "</style>\n",
              "<table border=\"1\" class=\"dataframe\">\n",
              "  <thead>\n",
              "    <tr style=\"text-align: right;\">\n",
              "      <th></th>\n",
              "      <th>Name</th>\n",
              "      <th>Address_L</th>\n",
              "      <th>University</th>\n",
              "      <th>Department</th>\n",
              "      <th>Address_R</th>\n",
              "    </tr>\n",
              "  </thead>\n",
              "  <tbody>\n",
              "    <tr>\n",
              "      <th>0</th>\n",
              "      <td>A</td>\n",
              "      <td>Houston</td>\n",
              "      <td>USF</td>\n",
              "      <td>EEE</td>\n",
              "      <td>Texas</td>\n",
              "    </tr>\n",
              "    <tr>\n",
              "      <th>1</th>\n",
              "      <td>B</td>\n",
              "      <td>Boise</td>\n",
              "      <td>BSU</td>\n",
              "      <td>CSE</td>\n",
              "      <td>Idaho</td>\n",
              "    </tr>\n",
              "    <tr>\n",
              "      <th>2</th>\n",
              "      <td>D</td>\n",
              "      <td>NaN</td>\n",
              "      <td>NaN</td>\n",
              "      <td>EEE</td>\n",
              "      <td>Dhaka</td>\n",
              "    </tr>\n",
              "  </tbody>\n",
              "</table>\n",
              "</div>"
            ],
            "text/plain": [
              "  Name Address_L University Department Address_R\n",
              "0    A   Houston        USF        EEE     Texas\n",
              "1    B     Boise        BSU        CSE     Idaho\n",
              "2    D       NaN        NaN        EEE     Dhaka"
            ]
          },
          "metadata": {},
          "output_type": "display_data"
        }
      ],
      "source": [
        "df_right_e1=df_A.merge(df_B,how='right',on=['Name'],suffixes=['_L','_R'])\n",
        "display(df_right_e1)"
      ]
    },
    {
      "cell_type": "code",
      "execution_count": null,
      "id": "a3d990a4",
      "metadata": {
        "id": "a3d990a4",
        "outputId": "36e02645-dea7-4f3f-c1cf-e4b0412daeb3"
      },
      "outputs": [
        {
          "data": {
            "text/html": [
              "<div>\n",
              "<style scoped>\n",
              "    .dataframe tbody tr th:only-of-type {\n",
              "        vertical-align: middle;\n",
              "    }\n",
              "\n",
              "    .dataframe tbody tr th {\n",
              "        vertical-align: top;\n",
              "    }\n",
              "\n",
              "    .dataframe thead th {\n",
              "        text-align: right;\n",
              "    }\n",
              "</style>\n",
              "<table border=\"1\" class=\"dataframe\">\n",
              "  <thead>\n",
              "    <tr style=\"text-align: right;\">\n",
              "      <th></th>\n",
              "      <th>Name</th>\n",
              "      <th>Address</th>\n",
              "      <th>University</th>\n",
              "      <th>Department</th>\n",
              "    </tr>\n",
              "  </thead>\n",
              "  <tbody>\n",
              "    <tr>\n",
              "      <th>0</th>\n",
              "      <td>A</td>\n",
              "      <td>Houston</td>\n",
              "      <td>USF</td>\n",
              "      <td>NaN</td>\n",
              "    </tr>\n",
              "    <tr>\n",
              "      <th>1</th>\n",
              "      <td>B</td>\n",
              "      <td>Boise</td>\n",
              "      <td>BSU</td>\n",
              "      <td>NaN</td>\n",
              "    </tr>\n",
              "    <tr>\n",
              "      <th>2</th>\n",
              "      <td>C</td>\n",
              "      <td>Tampa</td>\n",
              "      <td>USF</td>\n",
              "      <td>NaN</td>\n",
              "    </tr>\n",
              "    <tr>\n",
              "      <th>3</th>\n",
              "      <td>A</td>\n",
              "      <td>Texas</td>\n",
              "      <td>NaN</td>\n",
              "      <td>EEE</td>\n",
              "    </tr>\n",
              "    <tr>\n",
              "      <th>4</th>\n",
              "      <td>B</td>\n",
              "      <td>Idaho</td>\n",
              "      <td>NaN</td>\n",
              "      <td>CSE</td>\n",
              "    </tr>\n",
              "    <tr>\n",
              "      <th>5</th>\n",
              "      <td>D</td>\n",
              "      <td>Dhaka</td>\n",
              "      <td>NaN</td>\n",
              "      <td>EEE</td>\n",
              "    </tr>\n",
              "  </tbody>\n",
              "</table>\n",
              "</div>"
            ],
            "text/plain": [
              "  Name  Address University Department\n",
              "0    A  Houston        USF        NaN\n",
              "1    B    Boise        BSU        NaN\n",
              "2    C    Tampa        USF        NaN\n",
              "3    A    Texas        NaN        EEE\n",
              "4    B    Idaho        NaN        CSE\n",
              "5    D    Dhaka        NaN        EEE"
            ]
          },
          "metadata": {},
          "output_type": "display_data"
        }
      ],
      "source": [
        "df_outer_e1=df_A.merge(df_B,how='outer')\n",
        "display(df_outer_e1)"
      ]
    },
    {
      "cell_type": "code",
      "execution_count": null,
      "id": "30bcd962",
      "metadata": {
        "id": "30bcd962"
      },
      "outputs": [],
      "source": [
        ""
      ]
    }
  ],
  "metadata": {
    "kernelspec": {
      "display_name": "Python 3 (ipykernel)",
      "language": "python",
      "name": "python3"
    },
    "language_info": {
      "codemirror_mode": {
        "name": "ipython",
        "version": 3
      },
      "file_extension": ".py",
      "mimetype": "text/x-python",
      "name": "python",
      "nbconvert_exporter": "python",
      "pygments_lexer": "ipython3",
      "version": "3.9.7"
    },
    "colab": {
      "name": "Lecture_06_Python_ML.ipynb",
      "provenance": [],
      "include_colab_link": true
    }
  },
  "nbformat": 4,
  "nbformat_minor": 5
}