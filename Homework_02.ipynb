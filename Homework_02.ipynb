{
 "cells": [
  {
   "cell_type": "markdown",
   "id": "b8306106",
   "metadata": {},
   "source": [
    "### Homework 02: Quiz"
   ]
  },
  {
   "cell_type": "code",
   "execution_count": 81,
   "id": "81723aa1",
   "metadata": {},
   "outputs": [],
   "source": [
    "import pandas as pd"
   ]
  },
  {
   "cell_type": "markdown",
   "id": "d6205c80",
   "metadata": {},
   "source": [
    "#### Q2. friends_right = friends_s1.merge(friends_s2, how='right', left_on='character', right_on='character_name'); What's the shape of the output dataframe? *"
   ]
  },
  {
   "cell_type": "code",
   "execution_count": 82,
   "id": "c4eff970",
   "metadata": {},
   "outputs": [
    {
     "data": {
      "text/html": [
       "<div>\n",
       "<style scoped>\n",
       "    .dataframe tbody tr th:only-of-type {\n",
       "        vertical-align: middle;\n",
       "    }\n",
       "\n",
       "    .dataframe tbody tr th {\n",
       "        vertical-align: top;\n",
       "    }\n",
       "\n",
       "    .dataframe thead th {\n",
       "        text-align: right;\n",
       "    }\n",
       "</style>\n",
       "<table border=\"1\" class=\"dataframe\">\n",
       "  <thead>\n",
       "    <tr style=\"text-align: right;\">\n",
       "      <th></th>\n",
       "      <th>character</th>\n",
       "      <th>name</th>\n",
       "      <th>birthday</th>\n",
       "    </tr>\n",
       "  </thead>\n",
       "  <tbody>\n",
       "    <tr>\n",
       "      <th>0</th>\n",
       "      <td>Rachel Green</td>\n",
       "      <td>Jennifer Aniston</td>\n",
       "      <td>1969-02-11</td>\n",
       "    </tr>\n",
       "    <tr>\n",
       "      <th>1</th>\n",
       "      <td>Ross Geller</td>\n",
       "      <td>David Schwimmer</td>\n",
       "      <td>1966-11-02</td>\n",
       "    </tr>\n",
       "    <tr>\n",
       "      <th>2</th>\n",
       "      <td>Phoebe Buffay</td>\n",
       "      <td>Lisa Kundrow</td>\n",
       "      <td>1963-07-30</td>\n",
       "    </tr>\n",
       "    <tr>\n",
       "      <th>3</th>\n",
       "      <td>JoeyTribbiani</td>\n",
       "      <td>Matt LeBlanc</td>\n",
       "      <td>1967-07-25</td>\n",
       "    </tr>\n",
       "    <tr>\n",
       "      <th>4</th>\n",
       "      <td>Monica Geller</td>\n",
       "      <td>Courteney Cox</td>\n",
       "      <td>1964-06-15</td>\n",
       "    </tr>\n",
       "    <tr>\n",
       "      <th>5</th>\n",
       "      <td>Chandler Bing</td>\n",
       "      <td>Matthew Perry</td>\n",
       "      <td>1969-08-19</td>\n",
       "    </tr>\n",
       "  </tbody>\n",
       "</table>\n",
       "</div>"
      ],
      "text/plain": [
       "       character              name    birthday\n",
       "0   Rachel Green  Jennifer Aniston  1969-02-11\n",
       "1    Ross Geller   David Schwimmer  1966-11-02\n",
       "2  Phoebe Buffay      Lisa Kundrow  1963-07-30\n",
       "3  JoeyTribbiani      Matt LeBlanc  1967-07-25\n",
       "4  Monica Geller     Courteney Cox  1964-06-15\n",
       "5  Chandler Bing     Matthew Perry  1969-08-19"
      ]
     },
     "metadata": {},
     "output_type": "display_data"
    }
   ],
   "source": [
    "friend_s1=pd.DataFrame()\n",
    "friend_s1['character']='Rachel Green','Ross Geller','Phoebe Buffay','JoeyTribbiani','Monica Geller','Chandler Bing' \n",
    "friend_s1['name']='Jennifer Aniston','David Schwimmer','Lisa Kundrow', 'Matt LeBlanc','Courteney Cox','Matthew Perry'\n",
    "friend_s1['birthday']='1969-02-11','1966-11-02','1963-07-30','1967-07-25','1964-06-15','1969-08-19'\n",
    "display(friend_s1)"
   ]
  },
  {
   "cell_type": "code",
   "execution_count": 83,
   "id": "35b2e29d",
   "metadata": {},
   "outputs": [
    {
     "data": {
      "text/html": [
       "<div>\n",
       "<style scoped>\n",
       "    .dataframe tbody tr th:only-of-type {\n",
       "        vertical-align: middle;\n",
       "    }\n",
       "\n",
       "    .dataframe tbody tr th {\n",
       "        vertical-align: top;\n",
       "    }\n",
       "\n",
       "    .dataframe thead th {\n",
       "        text-align: right;\n",
       "    }\n",
       "</style>\n",
       "<table border=\"1\" class=\"dataframe\">\n",
       "  <thead>\n",
       "    <tr style=\"text-align: right;\">\n",
       "      <th></th>\n",
       "      <th>character_name</th>\n",
       "      <th>gender</th>\n",
       "    </tr>\n",
       "  </thead>\n",
       "  <tbody>\n",
       "    <tr>\n",
       "      <th>0</th>\n",
       "      <td>Rachel Green</td>\n",
       "      <td>female</td>\n",
       "    </tr>\n",
       "    <tr>\n",
       "      <th>1</th>\n",
       "      <td>Ross Geller</td>\n",
       "      <td>male</td>\n",
       "    </tr>\n",
       "    <tr>\n",
       "      <th>2</th>\n",
       "      <td>Phoebe Buffay</td>\n",
       "      <td>female</td>\n",
       "    </tr>\n",
       "    <tr>\n",
       "      <th>3</th>\n",
       "      <td>JoeyTribbiani</td>\n",
       "      <td>male</td>\n",
       "    </tr>\n",
       "    <tr>\n",
       "      <th>4</th>\n",
       "      <td>Monica Geller</td>\n",
       "      <td>female</td>\n",
       "    </tr>\n",
       "    <tr>\n",
       "      <th>5</th>\n",
       "      <td>Chandler Bing</td>\n",
       "      <td>male</td>\n",
       "    </tr>\n",
       "    <tr>\n",
       "      <th>6</th>\n",
       "      <td>Richard Burke</td>\n",
       "      <td>male</td>\n",
       "    </tr>\n",
       "    <tr>\n",
       "      <th>7</th>\n",
       "      <td>Gunther</td>\n",
       "      <td>male</td>\n",
       "    </tr>\n",
       "    <tr>\n",
       "      <th>8</th>\n",
       "      <td>Emily Waltham</td>\n",
       "      <td>female</td>\n",
       "    </tr>\n",
       "    <tr>\n",
       "      <th>9</th>\n",
       "      <td>Mike Hannigan</td>\n",
       "      <td>male</td>\n",
       "    </tr>\n",
       "  </tbody>\n",
       "</table>\n",
       "</div>"
      ],
      "text/plain": [
       "  character_name  gender\n",
       "0   Rachel Green  female\n",
       "1    Ross Geller    male\n",
       "2  Phoebe Buffay  female\n",
       "3  JoeyTribbiani    male\n",
       "4  Monica Geller  female\n",
       "5  Chandler Bing    male\n",
       "6  Richard Burke    male\n",
       "7        Gunther    male\n",
       "8  Emily Waltham  female\n",
       "9  Mike Hannigan    male"
      ]
     },
     "metadata": {},
     "output_type": "display_data"
    }
   ],
   "source": [
    "friend_s2=pd.DataFrame()\n",
    "friend_s2['character_name']='Rachel Green','Ross Geller','Phoebe Buffay','JoeyTribbiani','Monica Geller','Chandler Bing','Richard Burke','Gunther','Emily Waltham','Mike Hannigan' \n",
    "friend_s2['gender']='female','male','female','male','female','male','male','male','female','male'\n",
    "display(friend_s2)"
   ]
  },
  {
   "cell_type": "code",
   "execution_count": 84,
   "id": "768748ab",
   "metadata": {},
   "outputs": [
    {
     "data": {
      "text/html": [
       "<div>\n",
       "<style scoped>\n",
       "    .dataframe tbody tr th:only-of-type {\n",
       "        vertical-align: middle;\n",
       "    }\n",
       "\n",
       "    .dataframe tbody tr th {\n",
       "        vertical-align: top;\n",
       "    }\n",
       "\n",
       "    .dataframe thead th {\n",
       "        text-align: right;\n",
       "    }\n",
       "</style>\n",
       "<table border=\"1\" class=\"dataframe\">\n",
       "  <thead>\n",
       "    <tr style=\"text-align: right;\">\n",
       "      <th></th>\n",
       "      <th>Name</th>\n",
       "      <th>Age</th>\n",
       "    </tr>\n",
       "  </thead>\n",
       "  <tbody>\n",
       "    <tr>\n",
       "      <th>0</th>\n",
       "      <td>A</td>\n",
       "      <td>29</td>\n",
       "    </tr>\n",
       "    <tr>\n",
       "      <th>1</th>\n",
       "      <td>B</td>\n",
       "      <td>32</td>\n",
       "    </tr>\n",
       "  </tbody>\n",
       "</table>\n",
       "</div>"
      ],
      "text/plain": [
       "  Name  Age\n",
       "0    A   29\n",
       "1    B   32"
      ]
     },
     "metadata": {},
     "output_type": "display_data"
    },
    {
     "name": "stdout",
     "output_type": "stream",
     "text": [
      "(2, 2)\n"
     ]
    }
   ],
   "source": [
    "df=pd.DataFrame({'Name':['A','B'],'Age':[29,32]})\n",
    "display(df)\n",
    "print(df.shape)"
   ]
  },
  {
   "cell_type": "code",
   "execution_count": 85,
   "id": "bb6aa099",
   "metadata": {},
   "outputs": [
    {
     "name": "stdout",
     "output_type": "stream",
     "text": [
      "shape of data set 1 is =  (6, 3)\n",
      "shape of data set 2 is =  (10, 2)\n"
     ]
    }
   ],
   "source": [
    "print('shape of data set 1 is = ', friend_s1.shape)\n",
    "print('shape of data set 2 is = ', friend_s2.shape)"
   ]
  },
  {
   "cell_type": "code",
   "execution_count": 86,
   "id": "85f27419",
   "metadata": {},
   "outputs": [
    {
     "data": {
      "text/html": [
       "<div>\n",
       "<style scoped>\n",
       "    .dataframe tbody tr th:only-of-type {\n",
       "        vertical-align: middle;\n",
       "    }\n",
       "\n",
       "    .dataframe tbody tr th {\n",
       "        vertical-align: top;\n",
       "    }\n",
       "\n",
       "    .dataframe thead th {\n",
       "        text-align: right;\n",
       "    }\n",
       "</style>\n",
       "<table border=\"1\" class=\"dataframe\">\n",
       "  <thead>\n",
       "    <tr style=\"text-align: right;\">\n",
       "      <th></th>\n",
       "      <th>character</th>\n",
       "      <th>name</th>\n",
       "      <th>birthday</th>\n",
       "      <th>character_name</th>\n",
       "      <th>gender</th>\n",
       "    </tr>\n",
       "  </thead>\n",
       "  <tbody>\n",
       "    <tr>\n",
       "      <th>0</th>\n",
       "      <td>Rachel Green</td>\n",
       "      <td>Jennifer Aniston</td>\n",
       "      <td>1969-02-11</td>\n",
       "      <td>Rachel Green</td>\n",
       "      <td>female</td>\n",
       "    </tr>\n",
       "    <tr>\n",
       "      <th>1</th>\n",
       "      <td>Ross Geller</td>\n",
       "      <td>David Schwimmer</td>\n",
       "      <td>1966-11-02</td>\n",
       "      <td>Ross Geller</td>\n",
       "      <td>male</td>\n",
       "    </tr>\n",
       "    <tr>\n",
       "      <th>2</th>\n",
       "      <td>Phoebe Buffay</td>\n",
       "      <td>Lisa Kundrow</td>\n",
       "      <td>1963-07-30</td>\n",
       "      <td>Phoebe Buffay</td>\n",
       "      <td>female</td>\n",
       "    </tr>\n",
       "    <tr>\n",
       "      <th>3</th>\n",
       "      <td>JoeyTribbiani</td>\n",
       "      <td>Matt LeBlanc</td>\n",
       "      <td>1967-07-25</td>\n",
       "      <td>JoeyTribbiani</td>\n",
       "      <td>male</td>\n",
       "    </tr>\n",
       "    <tr>\n",
       "      <th>4</th>\n",
       "      <td>Monica Geller</td>\n",
       "      <td>Courteney Cox</td>\n",
       "      <td>1964-06-15</td>\n",
       "      <td>Monica Geller</td>\n",
       "      <td>female</td>\n",
       "    </tr>\n",
       "    <tr>\n",
       "      <th>5</th>\n",
       "      <td>Chandler Bing</td>\n",
       "      <td>Matthew Perry</td>\n",
       "      <td>1969-08-19</td>\n",
       "      <td>Chandler Bing</td>\n",
       "      <td>male</td>\n",
       "    </tr>\n",
       "    <tr>\n",
       "      <th>6</th>\n",
       "      <td>NaN</td>\n",
       "      <td>NaN</td>\n",
       "      <td>NaN</td>\n",
       "      <td>Richard Burke</td>\n",
       "      <td>male</td>\n",
       "    </tr>\n",
       "    <tr>\n",
       "      <th>7</th>\n",
       "      <td>NaN</td>\n",
       "      <td>NaN</td>\n",
       "      <td>NaN</td>\n",
       "      <td>Gunther</td>\n",
       "      <td>male</td>\n",
       "    </tr>\n",
       "    <tr>\n",
       "      <th>8</th>\n",
       "      <td>NaN</td>\n",
       "      <td>NaN</td>\n",
       "      <td>NaN</td>\n",
       "      <td>Emily Waltham</td>\n",
       "      <td>female</td>\n",
       "    </tr>\n",
       "    <tr>\n",
       "      <th>9</th>\n",
       "      <td>NaN</td>\n",
       "      <td>NaN</td>\n",
       "      <td>NaN</td>\n",
       "      <td>Mike Hannigan</td>\n",
       "      <td>male</td>\n",
       "    </tr>\n",
       "  </tbody>\n",
       "</table>\n",
       "</div>"
      ],
      "text/plain": [
       "       character              name    birthday character_name  gender\n",
       "0   Rachel Green  Jennifer Aniston  1969-02-11   Rachel Green  female\n",
       "1    Ross Geller   David Schwimmer  1966-11-02    Ross Geller    male\n",
       "2  Phoebe Buffay      Lisa Kundrow  1963-07-30  Phoebe Buffay  female\n",
       "3  JoeyTribbiani      Matt LeBlanc  1967-07-25  JoeyTribbiani    male\n",
       "4  Monica Geller     Courteney Cox  1964-06-15  Monica Geller  female\n",
       "5  Chandler Bing     Matthew Perry  1969-08-19  Chandler Bing    male\n",
       "6            NaN               NaN         NaN  Richard Burke    male\n",
       "7            NaN               NaN         NaN        Gunther    male\n",
       "8            NaN               NaN         NaN  Emily Waltham  female\n",
       "9            NaN               NaN         NaN  Mike Hannigan    male"
      ]
     },
     "metadata": {},
     "output_type": "display_data"
    },
    {
     "name": "stdout",
     "output_type": "stream",
     "text": [
      "What is the shape of the output dataframe? (10, 5)\n"
     ]
    }
   ],
   "source": [
    "friends_right = friend_s1.merge(friend_s2, how='right', left_on='character', right_on='character_name')\n",
    "display(friends_right)\n",
    "print('What is the shape of the output dataframe?',friends_right.shape)"
   ]
  },
  {
   "cell_type": "code",
   "execution_count": 87,
   "id": "45bd97d9",
   "metadata": {},
   "outputs": [],
   "source": [
    "# friends_left = friend_s1.merge(friend_s2, how='left', left_on='character', right_on='character_name')\n",
    "# display(friends_left)\n",
    "# print('What is the shape of the output dataframe?',friends_left.shape)"
   ]
  },
  {
   "cell_type": "markdown",
   "id": "f6731810",
   "metadata": {},
   "source": [
    "#### friends_outer = friends_s1.merge(friends_s2, how='outer', left_on='character', right_on='character_name'); What's the shape of the output dataframe? *"
   ]
  },
  {
   "cell_type": "code",
   "execution_count": 88,
   "id": "ecbdc7b9",
   "metadata": {},
   "outputs": [
    {
     "data": {
      "text/html": [
       "<div>\n",
       "<style scoped>\n",
       "    .dataframe tbody tr th:only-of-type {\n",
       "        vertical-align: middle;\n",
       "    }\n",
       "\n",
       "    .dataframe tbody tr th {\n",
       "        vertical-align: top;\n",
       "    }\n",
       "\n",
       "    .dataframe thead th {\n",
       "        text-align: right;\n",
       "    }\n",
       "</style>\n",
       "<table border=\"1\" class=\"dataframe\">\n",
       "  <thead>\n",
       "    <tr style=\"text-align: right;\">\n",
       "      <th></th>\n",
       "      <th>character</th>\n",
       "      <th>name</th>\n",
       "      <th>birthday</th>\n",
       "      <th>character_name</th>\n",
       "      <th>gender</th>\n",
       "    </tr>\n",
       "  </thead>\n",
       "  <tbody>\n",
       "    <tr>\n",
       "      <th>0</th>\n",
       "      <td>Rachel Green</td>\n",
       "      <td>Jennifer Aniston</td>\n",
       "      <td>1969-02-11</td>\n",
       "      <td>Rachel Green</td>\n",
       "      <td>female</td>\n",
       "    </tr>\n",
       "    <tr>\n",
       "      <th>1</th>\n",
       "      <td>Ross Geller</td>\n",
       "      <td>David Schwimmer</td>\n",
       "      <td>1966-11-02</td>\n",
       "      <td>Ross Geller</td>\n",
       "      <td>male</td>\n",
       "    </tr>\n",
       "    <tr>\n",
       "      <th>2</th>\n",
       "      <td>Phoebe Buffay</td>\n",
       "      <td>Lisa Kundrow</td>\n",
       "      <td>1963-07-30</td>\n",
       "      <td>Phoebe Buffay</td>\n",
       "      <td>female</td>\n",
       "    </tr>\n",
       "    <tr>\n",
       "      <th>3</th>\n",
       "      <td>JoeyTribbiani</td>\n",
       "      <td>Matt LeBlanc</td>\n",
       "      <td>1967-07-25</td>\n",
       "      <td>JoeyTribbiani</td>\n",
       "      <td>male</td>\n",
       "    </tr>\n",
       "    <tr>\n",
       "      <th>4</th>\n",
       "      <td>Monica Geller</td>\n",
       "      <td>Courteney Cox</td>\n",
       "      <td>1964-06-15</td>\n",
       "      <td>Monica Geller</td>\n",
       "      <td>female</td>\n",
       "    </tr>\n",
       "    <tr>\n",
       "      <th>5</th>\n",
       "      <td>Chandler Bing</td>\n",
       "      <td>Matthew Perry</td>\n",
       "      <td>1969-08-19</td>\n",
       "      <td>Chandler Bing</td>\n",
       "      <td>male</td>\n",
       "    </tr>\n",
       "    <tr>\n",
       "      <th>6</th>\n",
       "      <td>NaN</td>\n",
       "      <td>NaN</td>\n",
       "      <td>NaN</td>\n",
       "      <td>Richard Burke</td>\n",
       "      <td>male</td>\n",
       "    </tr>\n",
       "    <tr>\n",
       "      <th>7</th>\n",
       "      <td>NaN</td>\n",
       "      <td>NaN</td>\n",
       "      <td>NaN</td>\n",
       "      <td>Gunther</td>\n",
       "      <td>male</td>\n",
       "    </tr>\n",
       "    <tr>\n",
       "      <th>8</th>\n",
       "      <td>NaN</td>\n",
       "      <td>NaN</td>\n",
       "      <td>NaN</td>\n",
       "      <td>Emily Waltham</td>\n",
       "      <td>female</td>\n",
       "    </tr>\n",
       "    <tr>\n",
       "      <th>9</th>\n",
       "      <td>NaN</td>\n",
       "      <td>NaN</td>\n",
       "      <td>NaN</td>\n",
       "      <td>Mike Hannigan</td>\n",
       "      <td>male</td>\n",
       "    </tr>\n",
       "  </tbody>\n",
       "</table>\n",
       "</div>"
      ],
      "text/plain": [
       "       character              name    birthday character_name  gender\n",
       "0   Rachel Green  Jennifer Aniston  1969-02-11   Rachel Green  female\n",
       "1    Ross Geller   David Schwimmer  1966-11-02    Ross Geller    male\n",
       "2  Phoebe Buffay      Lisa Kundrow  1963-07-30  Phoebe Buffay  female\n",
       "3  JoeyTribbiani      Matt LeBlanc  1967-07-25  JoeyTribbiani    male\n",
       "4  Monica Geller     Courteney Cox  1964-06-15  Monica Geller  female\n",
       "5  Chandler Bing     Matthew Perry  1969-08-19  Chandler Bing    male\n",
       "6            NaN               NaN         NaN  Richard Burke    male\n",
       "7            NaN               NaN         NaN        Gunther    male\n",
       "8            NaN               NaN         NaN  Emily Waltham  female\n",
       "9            NaN               NaN         NaN  Mike Hannigan    male"
      ]
     },
     "metadata": {},
     "output_type": "display_data"
    },
    {
     "name": "stdout",
     "output_type": "stream",
     "text": [
      "What is the shape of the output dataframe? (10, 5)\n"
     ]
    }
   ],
   "source": [
    "friends_outer = friend_s1.merge(friend_s2, how='outer', left_on='character', right_on='character_name'); \n",
    "display(friends_outer)\n",
    "print('What is the shape of the output dataframe?',friends_outer.shape)"
   ]
  },
  {
   "cell_type": "markdown",
   "id": "e4db838f",
   "metadata": {},
   "source": [
    "### There two tables given for you. df_A has index Name, two columns Address and University, 3 rows. df_B has index name, one column Department, 3 rows. Perform inner join based on their index. how many missing values are present in the output dataframe? df_inner = df_A.merge(df_B, how='inner', left_index=True, right_index=True) *"
   ]
  },
  {
   "cell_type": "code",
   "execution_count": 89,
   "id": "a96cad54",
   "metadata": {},
   "outputs": [
    {
     "data": {
      "text/html": [
       "<div>\n",
       "<style scoped>\n",
       "    .dataframe tbody tr th:only-of-type {\n",
       "        vertical-align: middle;\n",
       "    }\n",
       "\n",
       "    .dataframe tbody tr th {\n",
       "        vertical-align: top;\n",
       "    }\n",
       "\n",
       "    .dataframe thead th {\n",
       "        text-align: right;\n",
       "    }\n",
       "</style>\n",
       "<table border=\"1\" class=\"dataframe\">\n",
       "  <thead>\n",
       "    <tr style=\"text-align: right;\">\n",
       "      <th></th>\n",
       "      <th>Name</th>\n",
       "      <th>Address</th>\n",
       "      <th>University</th>\n",
       "    </tr>\n",
       "  </thead>\n",
       "  <tbody>\n",
       "    <tr>\n",
       "      <th>0</th>\n",
       "      <td>Kawsar</td>\n",
       "      <td>Houston</td>\n",
       "      <td>USF</td>\n",
       "    </tr>\n",
       "    <tr>\n",
       "      <th>1</th>\n",
       "      <td>Tasnim</td>\n",
       "      <td>Boise</td>\n",
       "      <td>BSU</td>\n",
       "    </tr>\n",
       "    <tr>\n",
       "      <th>2</th>\n",
       "      <td>Jakir</td>\n",
       "      <td>Tampa</td>\n",
       "      <td>USF</td>\n",
       "    </tr>\n",
       "  </tbody>\n",
       "</table>\n",
       "</div>"
      ],
      "text/plain": [
       "     Name  Address University\n",
       "0  Kawsar  Houston        USF\n",
       "1  Tasnim    Boise        BSU\n",
       "2   Jakir    Tampa        USF"
      ]
     },
     "metadata": {},
     "output_type": "display_data"
    }
   ],
   "source": [
    "df_A=pd.DataFrame({'Name':['Kawsar','Tasnim','Jakir'],'Address':['Houston','Boise','Tampa'],'University':['USF','BSU','USF']})\n",
    "display(df_A)"
   ]
  },
  {
   "cell_type": "code",
   "execution_count": 90,
   "id": "86a281e4",
   "metadata": {},
   "outputs": [
    {
     "data": {
      "text/html": [
       "<div>\n",
       "<style scoped>\n",
       "    .dataframe tbody tr th:only-of-type {\n",
       "        vertical-align: middle;\n",
       "    }\n",
       "\n",
       "    .dataframe tbody tr th {\n",
       "        vertical-align: top;\n",
       "    }\n",
       "\n",
       "    .dataframe thead th {\n",
       "        text-align: right;\n",
       "    }\n",
       "</style>\n",
       "<table border=\"1\" class=\"dataframe\">\n",
       "  <thead>\n",
       "    <tr style=\"text-align: right;\">\n",
       "      <th></th>\n",
       "      <th>Name</th>\n",
       "      <th>Department</th>\n",
       "    </tr>\n",
       "  </thead>\n",
       "  <tbody>\n",
       "    <tr>\n",
       "      <th>0</th>\n",
       "      <td>Kawsar</td>\n",
       "      <td>EE</td>\n",
       "    </tr>\n",
       "    <tr>\n",
       "      <th>1</th>\n",
       "      <td>Tasnim</td>\n",
       "      <td>CS</td>\n",
       "    </tr>\n",
       "    <tr>\n",
       "      <th>2</th>\n",
       "      <td>Riad</td>\n",
       "      <td>EE</td>\n",
       "    </tr>\n",
       "  </tbody>\n",
       "</table>\n",
       "</div>"
      ],
      "text/plain": [
       "     Name Department\n",
       "0  Kawsar         EE\n",
       "1  Tasnim         CS\n",
       "2    Riad         EE"
      ]
     },
     "metadata": {},
     "output_type": "display_data"
    }
   ],
   "source": [
    "df_B=pd.DataFrame({'Name':['Kawsar','Tasnim','Riad'],'Department':['EE','CS','EE']})\n",
    "display(df_B)"
   ]
  },
  {
   "cell_type": "code",
   "execution_count": 91,
   "id": "c001c908",
   "metadata": {},
   "outputs": [
    {
     "data": {
      "text/html": [
       "<div>\n",
       "<style scoped>\n",
       "    .dataframe tbody tr th:only-of-type {\n",
       "        vertical-align: middle;\n",
       "    }\n",
       "\n",
       "    .dataframe tbody tr th {\n",
       "        vertical-align: top;\n",
       "    }\n",
       "\n",
       "    .dataframe thead th {\n",
       "        text-align: right;\n",
       "    }\n",
       "</style>\n",
       "<table border=\"1\" class=\"dataframe\">\n",
       "  <thead>\n",
       "    <tr style=\"text-align: right;\">\n",
       "      <th></th>\n",
       "      <th>Address</th>\n",
       "      <th>University</th>\n",
       "    </tr>\n",
       "    <tr>\n",
       "      <th>Name</th>\n",
       "      <th></th>\n",
       "      <th></th>\n",
       "    </tr>\n",
       "  </thead>\n",
       "  <tbody>\n",
       "    <tr>\n",
       "      <th>Kawsar</th>\n",
       "      <td>Houston</td>\n",
       "      <td>USF</td>\n",
       "    </tr>\n",
       "    <tr>\n",
       "      <th>Tasnim</th>\n",
       "      <td>Boise</td>\n",
       "      <td>BSU</td>\n",
       "    </tr>\n",
       "    <tr>\n",
       "      <th>Jakir</th>\n",
       "      <td>Tampa</td>\n",
       "      <td>USF</td>\n",
       "    </tr>\n",
       "  </tbody>\n",
       "</table>\n",
       "</div>"
      ],
      "text/plain": [
       "        Address University\n",
       "Name                      \n",
       "Kawsar  Houston        USF\n",
       "Tasnim    Boise        BSU\n",
       "Jakir     Tampa        USF"
      ]
     },
     "metadata": {},
     "output_type": "display_data"
    }
   ],
   "source": [
    "df_A.set_index('Name', drop=True, append=False, inplace=True)\n",
    "display(df_A)"
   ]
  },
  {
   "cell_type": "code",
   "execution_count": 92,
   "id": "f85a3bed",
   "metadata": {},
   "outputs": [
    {
     "data": {
      "text/html": [
       "<div>\n",
       "<style scoped>\n",
       "    .dataframe tbody tr th:only-of-type {\n",
       "        vertical-align: middle;\n",
       "    }\n",
       "\n",
       "    .dataframe tbody tr th {\n",
       "        vertical-align: top;\n",
       "    }\n",
       "\n",
       "    .dataframe thead th {\n",
       "        text-align: right;\n",
       "    }\n",
       "</style>\n",
       "<table border=\"1\" class=\"dataframe\">\n",
       "  <thead>\n",
       "    <tr style=\"text-align: right;\">\n",
       "      <th></th>\n",
       "      <th>Department</th>\n",
       "    </tr>\n",
       "    <tr>\n",
       "      <th>Name</th>\n",
       "      <th></th>\n",
       "    </tr>\n",
       "  </thead>\n",
       "  <tbody>\n",
       "    <tr>\n",
       "      <th>Kawsar</th>\n",
       "      <td>EE</td>\n",
       "    </tr>\n",
       "    <tr>\n",
       "      <th>Tasnim</th>\n",
       "      <td>CS</td>\n",
       "    </tr>\n",
       "    <tr>\n",
       "      <th>Riad</th>\n",
       "      <td>EE</td>\n",
       "    </tr>\n",
       "  </tbody>\n",
       "</table>\n",
       "</div>"
      ],
      "text/plain": [
       "       Department\n",
       "Name             \n",
       "Kawsar         EE\n",
       "Tasnim         CS\n",
       "Riad           EE"
      ]
     },
     "metadata": {},
     "output_type": "display_data"
    }
   ],
   "source": [
    "df_B.set_index('Name', drop=True, append=False, inplace=True)\n",
    "display(df_B)"
   ]
  },
  {
   "cell_type": "code",
   "execution_count": 93,
   "id": "ecf0c5ab",
   "metadata": {},
   "outputs": [
    {
     "data": {
      "text/html": [
       "<div>\n",
       "<style scoped>\n",
       "    .dataframe tbody tr th:only-of-type {\n",
       "        vertical-align: middle;\n",
       "    }\n",
       "\n",
       "    .dataframe tbody tr th {\n",
       "        vertical-align: top;\n",
       "    }\n",
       "\n",
       "    .dataframe thead th {\n",
       "        text-align: right;\n",
       "    }\n",
       "</style>\n",
       "<table border=\"1\" class=\"dataframe\">\n",
       "  <thead>\n",
       "    <tr style=\"text-align: right;\">\n",
       "      <th></th>\n",
       "      <th>Address</th>\n",
       "      <th>University</th>\n",
       "      <th>Department</th>\n",
       "    </tr>\n",
       "    <tr>\n",
       "      <th>Name</th>\n",
       "      <th></th>\n",
       "      <th></th>\n",
       "      <th></th>\n",
       "    </tr>\n",
       "  </thead>\n",
       "  <tbody>\n",
       "    <tr>\n",
       "      <th>Kawsar</th>\n",
       "      <td>Houston</td>\n",
       "      <td>USF</td>\n",
       "      <td>EE</td>\n",
       "    </tr>\n",
       "    <tr>\n",
       "      <th>Tasnim</th>\n",
       "      <td>Boise</td>\n",
       "      <td>BSU</td>\n",
       "      <td>CS</td>\n",
       "    </tr>\n",
       "  </tbody>\n",
       "</table>\n",
       "</div>"
      ],
      "text/plain": [
       "        Address University Department\n",
       "Name                                 \n",
       "Kawsar  Houston        USF         EE\n",
       "Tasnim    Boise        BSU         CS"
      ]
     },
     "metadata": {},
     "output_type": "display_data"
    },
    {
     "data": {
      "text/plain": [
       "(2, 3)"
      ]
     },
     "metadata": {},
     "output_type": "display_data"
    }
   ],
   "source": [
    "df_inner = df_A.merge(df_B, how='inner', left_index=True, right_index=True)\n",
    "display(df_inner)\n",
    "display(df_inner.shape)"
   ]
  },
  {
   "cell_type": "code",
   "execution_count": 94,
   "id": "d6322d01",
   "metadata": {},
   "outputs": [
    {
     "data": {
      "text/html": [
       "<div>\n",
       "<style scoped>\n",
       "    .dataframe tbody tr th:only-of-type {\n",
       "        vertical-align: middle;\n",
       "    }\n",
       "\n",
       "    .dataframe tbody tr th {\n",
       "        vertical-align: top;\n",
       "    }\n",
       "\n",
       "    .dataframe thead th {\n",
       "        text-align: right;\n",
       "    }\n",
       "</style>\n",
       "<table border=\"1\" class=\"dataframe\">\n",
       "  <thead>\n",
       "    <tr style=\"text-align: right;\">\n",
       "      <th></th>\n",
       "      <th>Address</th>\n",
       "      <th>University</th>\n",
       "      <th>Department</th>\n",
       "    </tr>\n",
       "    <tr>\n",
       "      <th>Name</th>\n",
       "      <th></th>\n",
       "      <th></th>\n",
       "      <th></th>\n",
       "    </tr>\n",
       "  </thead>\n",
       "  <tbody>\n",
       "    <tr>\n",
       "      <th>Kawsar</th>\n",
       "      <td>Houston</td>\n",
       "      <td>USF</td>\n",
       "      <td>EE</td>\n",
       "    </tr>\n",
       "    <tr>\n",
       "      <th>Tasnim</th>\n",
       "      <td>Boise</td>\n",
       "      <td>BSU</td>\n",
       "      <td>CS</td>\n",
       "    </tr>\n",
       "  </tbody>\n",
       "</table>\n",
       "</div>"
      ],
      "text/plain": [
       "        Address University Department\n",
       "Name                                 \n",
       "Kawsar  Houston        USF         EE\n",
       "Tasnim    Boise        BSU         CS"
      ]
     },
     "metadata": {},
     "output_type": "display_data"
    },
    {
     "name": "stdout",
     "output_type": "stream",
     "text": [
      "There is missing value? =  False\n",
      "index of the output data frame df_inner Index(['Kawsar', 'Tasnim'], dtype='object', name='Name')\n",
      "shape of the output data frame df_inner (2, 3)\n"
     ]
    }
   ],
   "source": [
    "display(df_inner)\n",
    "# df_inner.info()\n",
    "print('There is missing value? = ', pd.isnull('df_inner'))\n",
    "# print(df_inner.isnull())\n",
    "\n",
    "print('index of the output data frame df_inner', df_inner.index)\n",
    "print('shape of the output data frame df_inner', df_inner.shape)"
   ]
  },
  {
   "cell_type": "markdown",
   "id": "29484a1f",
   "metadata": {},
   "source": [
    "#### Missing values handling\n",
    "https://www.geeksforgeeks.org/working-with-missing-data-in-pandas/"
   ]
  },
  {
   "cell_type": "code",
   "execution_count": 95,
   "id": "7f7da3bd",
   "metadata": {},
   "outputs": [
    {
     "data": {
      "text/html": [
       "<div>\n",
       "<style scoped>\n",
       "    .dataframe tbody tr th:only-of-type {\n",
       "        vertical-align: middle;\n",
       "    }\n",
       "\n",
       "    .dataframe tbody tr th {\n",
       "        vertical-align: top;\n",
       "    }\n",
       "\n",
       "    .dataframe thead th {\n",
       "        text-align: right;\n",
       "    }\n",
       "</style>\n",
       "<table border=\"1\" class=\"dataframe\">\n",
       "  <thead>\n",
       "    <tr style=\"text-align: right;\">\n",
       "      <th></th>\n",
       "      <th>character</th>\n",
       "      <th>name</th>\n",
       "      <th>birthday</th>\n",
       "      <th>character_name</th>\n",
       "      <th>gender</th>\n",
       "    </tr>\n",
       "  </thead>\n",
       "  <tbody>\n",
       "    <tr>\n",
       "      <th>0</th>\n",
       "      <td>Rachel Green</td>\n",
       "      <td>Jennifer Aniston</td>\n",
       "      <td>1969-02-11</td>\n",
       "      <td>Rachel Green</td>\n",
       "      <td>female</td>\n",
       "    </tr>\n",
       "    <tr>\n",
       "      <th>1</th>\n",
       "      <td>Ross Geller</td>\n",
       "      <td>David Schwimmer</td>\n",
       "      <td>1966-11-02</td>\n",
       "      <td>Ross Geller</td>\n",
       "      <td>male</td>\n",
       "    </tr>\n",
       "    <tr>\n",
       "      <th>2</th>\n",
       "      <td>Phoebe Buffay</td>\n",
       "      <td>Lisa Kundrow</td>\n",
       "      <td>1963-07-30</td>\n",
       "      <td>Phoebe Buffay</td>\n",
       "      <td>female</td>\n",
       "    </tr>\n",
       "    <tr>\n",
       "      <th>3</th>\n",
       "      <td>JoeyTribbiani</td>\n",
       "      <td>Matt LeBlanc</td>\n",
       "      <td>1967-07-25</td>\n",
       "      <td>JoeyTribbiani</td>\n",
       "      <td>male</td>\n",
       "    </tr>\n",
       "    <tr>\n",
       "      <th>4</th>\n",
       "      <td>Monica Geller</td>\n",
       "      <td>Courteney Cox</td>\n",
       "      <td>1964-06-15</td>\n",
       "      <td>Monica Geller</td>\n",
       "      <td>female</td>\n",
       "    </tr>\n",
       "    <tr>\n",
       "      <th>5</th>\n",
       "      <td>Chandler Bing</td>\n",
       "      <td>Matthew Perry</td>\n",
       "      <td>1969-08-19</td>\n",
       "      <td>Chandler Bing</td>\n",
       "      <td>male</td>\n",
       "    </tr>\n",
       "    <tr>\n",
       "      <th>6</th>\n",
       "      <td>NaN</td>\n",
       "      <td>NaN</td>\n",
       "      <td>NaN</td>\n",
       "      <td>Richard Burke</td>\n",
       "      <td>male</td>\n",
       "    </tr>\n",
       "    <tr>\n",
       "      <th>7</th>\n",
       "      <td>NaN</td>\n",
       "      <td>NaN</td>\n",
       "      <td>NaN</td>\n",
       "      <td>Gunther</td>\n",
       "      <td>male</td>\n",
       "    </tr>\n",
       "    <tr>\n",
       "      <th>8</th>\n",
       "      <td>NaN</td>\n",
       "      <td>NaN</td>\n",
       "      <td>NaN</td>\n",
       "      <td>Emily Waltham</td>\n",
       "      <td>female</td>\n",
       "    </tr>\n",
       "    <tr>\n",
       "      <th>9</th>\n",
       "      <td>NaN</td>\n",
       "      <td>NaN</td>\n",
       "      <td>NaN</td>\n",
       "      <td>Mike Hannigan</td>\n",
       "      <td>male</td>\n",
       "    </tr>\n",
       "  </tbody>\n",
       "</table>\n",
       "</div>"
      ],
      "text/plain": [
       "       character              name    birthday character_name  gender\n",
       "0   Rachel Green  Jennifer Aniston  1969-02-11   Rachel Green  female\n",
       "1    Ross Geller   David Schwimmer  1966-11-02    Ross Geller    male\n",
       "2  Phoebe Buffay      Lisa Kundrow  1963-07-30  Phoebe Buffay  female\n",
       "3  JoeyTribbiani      Matt LeBlanc  1967-07-25  JoeyTribbiani    male\n",
       "4  Monica Geller     Courteney Cox  1964-06-15  Monica Geller  female\n",
       "5  Chandler Bing     Matthew Perry  1969-08-19  Chandler Bing    male\n",
       "6            NaN               NaN         NaN  Richard Burke    male\n",
       "7            NaN               NaN         NaN        Gunther    male\n",
       "8            NaN               NaN         NaN  Emily Waltham  female\n",
       "9            NaN               NaN         NaN  Mike Hannigan    male"
      ]
     },
     "metadata": {},
     "output_type": "display_data"
    },
    {
     "data": {
      "text/plain": [
       "12"
      ]
     },
     "execution_count": 95,
     "metadata": {},
     "output_type": "execute_result"
    }
   ],
   "source": [
    "display(friends_right)\n",
    "# friends_right.isnull()\n",
    "# friends_right.isna()\n",
    "# friends_right.info()\n",
    "# friends_right.isnull().sum()\n",
    "friends_right.isna().sum().sum()"
   ]
  },
  {
   "cell_type": "markdown",
   "id": "ad47cc00",
   "metadata": {},
   "source": []
  },
  {
   "cell_type": "markdown",
   "id": "d9980ae1",
   "metadata": {},
   "source": [
    "#### friends_left = friends_s1.merge(friends_s2, how='left', left_on='character', right_on='character_name'); how many missing values are present in the output dataframe? *"
   ]
  },
  {
   "cell_type": "code",
   "execution_count": 96,
   "id": "a07f8520",
   "metadata": {},
   "outputs": [
    {
     "name": "stdout",
     "output_type": "stream",
     "text": [
      "how many missing values are present in the output dataframe? =  0\n"
     ]
    }
   ],
   "source": [
    "# friends_left = friend_s1.merge(friend_s2, how='left', left_on='character', right_on='character_name')\n",
    "# friends_left = friend_s1.merge(friend_s2, how='left', left_on='character', right_on='character_name')\n",
    "# display(friends_left)\n",
    "# friends_left.info()\n",
    "print('how many missing values are present in the output dataframe? = ', friends_left.isna().sum().sum())"
   ]
  },
  {
   "cell_type": "code",
   "execution_count": 97,
   "id": "b744ced3",
   "metadata": {},
   "outputs": [],
   "source": [
    "# friends_left_b = friend_s1.merge(friend_s2, how='right', left_on='name', right_on='character_name')\n",
    "# display(friends_left_b)\n",
    "# display(friends_left)\n",
    "# display(friends_right)"
   ]
  },
  {
   "cell_type": "markdown",
   "id": "c56eafa4",
   "metadata": {},
   "source": []
  },
  {
   "cell_type": "markdown",
   "id": "288b5c07",
   "metadata": {},
   "source": [
    "#### friends_inner = friends_s1.merge(friends_s2, how='inner', left_on='character', right_on='character_name'); What's the shape of the output dataframe? *"
   ]
  },
  {
   "cell_type": "code",
   "execution_count": 105,
   "id": "57c479bb",
   "metadata": {},
   "outputs": [
    {
     "name": "stdout",
     "output_type": "stream",
     "text": [
      "What is the shape of the output dataframe:friends_inner? =  (6, 5)\n",
      "What is the shape of the output dataframe:friends_left? =  (6, 5)\n"
     ]
    }
   ],
   "source": [
    "# friends_inner = friends_s1.merge(friends_s2, how='inner', left_on='character', right_on='character_name')\n",
    "friends_inner = friend_s1.merge(friend_s2, how = 'inner', left_on = 'character', right_on = 'character_name')\n",
    "friends_left = friend_s1.merge(friend_s2, how = 'left', left_on='character', right_on = 'character_name')\n",
    "# display(friends_left)\n",
    "# display(friends_inner)\n",
    "print('What is the shape of the output dataframe:friends_inner? = ', friends_inner.shape)\n",
    "print('What is the shape of the output dataframe:friends_left? = ', friends_left.shape)"
   ]
  },
  {
   "cell_type": "code",
   "execution_count": null,
   "id": "8c6b1322",
   "metadata": {},
   "outputs": [],
   "source": []
  }
 ],
 "metadata": {
  "kernelspec": {
   "display_name": "Python 3 (ipykernel)",
   "language": "python",
   "name": "python3"
  },
  "language_info": {
   "codemirror_mode": {
    "name": "ipython",
    "version": 3
   },
   "file_extension": ".py",
   "mimetype": "text/x-python",
   "name": "python",
   "nbconvert_exporter": "python",
   "pygments_lexer": "ipython3",
   "version": "3.9.7"
  }
 },
 "nbformat": 4,
 "nbformat_minor": 5
}
